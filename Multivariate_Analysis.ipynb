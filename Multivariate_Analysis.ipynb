{
 "cells": [
  {
   "cell_type": "markdown",
   "id": "7abcc215",
   "metadata": {},
   "source": [
    "# Taller\n",
    "## Métodos multivariados\n",
    "#### *Sebastián Caamaño, Cristobal Collao, América Suárez*\n",
    "*09 Diciembre 2021*"
   ]
  },
  {
   "cell_type": "markdown",
   "id": "cf4b44b4",
   "metadata": {},
   "source": [
    "### Ejercicio 1.\n",
    "Con el conjunto de datos salmones.txt realice un anáisis discriminante y responda las preguntas a continuació. Las variables de la base de datos son:\n",
    "\n",
    "        ° x1: Origen del salmón: Canadá o Alaska.\n",
    "        ° x2: Diámetro del anillo del salmón durante el primer año de crecimiento en agua fresca (en cientos de pulgadas),\n",
    "        ° x3: Diámetro del anillo del salmón durante el primer año de crecimiento en agua de mar (en cientos de pulgadas),"
   ]
  },
  {
   "cell_type": "code",
   "execution_count": 20,
   "id": "2b016ce6",
   "metadata": {},
   "outputs": [],
   "source": [
    "library(ggplot2)\n",
    "library(MVN)\n",
    "library(biotools)"
   ]
  },
  {
   "cell_type": "code",
   "execution_count": 21,
   "id": "5f439254",
   "metadata": {},
   "outputs": [
    {
     "data": {
      "text/html": [
       "<table class=\"dataframe\">\n",
       "<caption>A data.frame: 6 × 3</caption>\n",
       "<thead>\n",
       "\t<tr><th></th><th scope=col>Origen</th><th scope=col>Fresca</th><th scope=col>Mar</th></tr>\n",
       "\t<tr><th></th><th scope=col>&lt;fct&gt;</th><th scope=col>&lt;int&gt;</th><th scope=col>&lt;int&gt;</th></tr>\n",
       "</thead>\n",
       "<tbody>\n",
       "\t<tr><th scope=row>1</th><td>Alaska</td><td>108</td><td>368</td></tr>\n",
       "\t<tr><th scope=row>2</th><td>Alaska</td><td>131</td><td>355</td></tr>\n",
       "\t<tr><th scope=row>3</th><td>Alaska</td><td>105</td><td>469</td></tr>\n",
       "\t<tr><th scope=row>4</th><td>Alaska</td><td> 86</td><td>506</td></tr>\n",
       "\t<tr><th scope=row>5</th><td>Alaska</td><td> 99</td><td>402</td></tr>\n",
       "\t<tr><th scope=row>6</th><td>Alaska</td><td> 87</td><td>423</td></tr>\n",
       "</tbody>\n",
       "</table>\n"
      ],
      "text/latex": [
       "A data.frame: 6 × 3\n",
       "\\begin{tabular}{r|lll}\n",
       "  & Origen & Fresca & Mar\\\\\n",
       "  & <fct> & <int> & <int>\\\\\n",
       "\\hline\n",
       "\t1 & Alaska & 108 & 368\\\\\n",
       "\t2 & Alaska & 131 & 355\\\\\n",
       "\t3 & Alaska & 105 & 469\\\\\n",
       "\t4 & Alaska &  86 & 506\\\\\n",
       "\t5 & Alaska &  99 & 402\\\\\n",
       "\t6 & Alaska &  87 & 423\\\\\n",
       "\\end{tabular}\n"
      ],
      "text/markdown": [
       "\n",
       "A data.frame: 6 × 3\n",
       "\n",
       "| <!--/--> | Origen &lt;fct&gt; | Fresca &lt;int&gt; | Mar &lt;int&gt; |\n",
       "|---|---|---|---|\n",
       "| 1 | Alaska | 108 | 368 |\n",
       "| 2 | Alaska | 131 | 355 |\n",
       "| 3 | Alaska | 105 | 469 |\n",
       "| 4 | Alaska |  86 | 506 |\n",
       "| 5 | Alaska |  99 | 402 |\n",
       "| 6 | Alaska |  87 | 423 |\n",
       "\n"
      ],
      "text/plain": [
       "  Origen Fresca Mar\n",
       "1 Alaska 108    368\n",
       "2 Alaska 131    355\n",
       "3 Alaska 105    469\n",
       "4 Alaska  86    506\n",
       "5 Alaska  99    402\n",
       "6 Alaska  87    423"
      ]
     },
     "metadata": {},
     "output_type": "display_data"
    },
    {
     "data": {
      "text/html": [
       "<style>\n",
       ".list-inline {list-style: none; margin:0; padding: 0}\n",
       ".list-inline>li {display: inline-block}\n",
       ".list-inline>li:not(:last-child)::after {content: \"\\00b7\"; padding: 0 .5ex}\n",
       "</style>\n",
       "<ol class=list-inline><li>100</li><li>3</li></ol>\n"
      ],
      "text/latex": [
       "\\begin{enumerate*}\n",
       "\\item 100\n",
       "\\item 3\n",
       "\\end{enumerate*}\n"
      ],
      "text/markdown": [
       "1. 100\n",
       "2. 3\n",
       "\n",
       "\n"
      ],
      "text/plain": [
       "[1] 100   3"
      ]
     },
     "metadata": {},
     "output_type": "display_data"
    }
   ],
   "source": [
    "datos = read.table(\"Salmones.txt\")\n",
    "datos=as.data.frame(datos)\n",
    "colnames(datos)=c('Origen','Fresca','Mar')\n",
    "head(datos)\n",
    "dim(datos)"
   ]
  },
  {
   "cell_type": "markdown",
   "id": "9d822740",
   "metadata": {},
   "source": [
    "###### a) Realice un análisis descriptivo de los datos para verificar los supuestos necesarios para el análisis discriminante. Comente todas las salidas. (10 puntos)"
   ]
  },
  {
   "cell_type": "code",
   "execution_count": 22,
   "id": "5a642254",
   "metadata": {},
   "outputs": [
    {
     "data": {
      "text/plain": [
       "     Fresca           Mar       \n",
       " Min.   : 53.0   Min.   :301.0  \n",
       " 1st Qu.: 99.0   1st Qu.:367.0  \n",
       " Median :117.5   Median :396.5  \n",
       " Mean   :117.9   Mean   :398.1  \n",
       " 3rd Qu.:140.0   3rd Qu.:428.2  \n",
       " Max.   :179.0   Max.   :511.0  "
      ]
     },
     "metadata": {},
     "output_type": "display_data"
    },
    {
     "data": {
      "text/plain": [
       "\n",
       "Alaska Canada \n",
       "    50     50 "
      ]
     },
     "metadata": {},
     "output_type": "display_data"
    }
   ],
   "source": [
    "summary(datos[,2:3])\n",
    "table(datos[,1])"
   ]
  },
  {
   "cell_type": "markdown",
   "id": "4c781fd7",
   "metadata": {},
   "source": [
    "Se observan que hay 50 salmones provenientes de Alaska y otros 50 provenientes de Canada. Se realizo un resumen estadistico en donde el promedio del diámetro del anillo del salmón durante el primer año de crecimiento en agua fresca es de 117.9 mientras que el promedio del diámetro del anillo del salmón durante el primer año de crecimiento en agua mar es de 398.1."
   ]
  },
  {
   "cell_type": "code",
   "execution_count": 23,
   "id": "a12c5f85",
   "metadata": {},
   "outputs": [
    {
     "data": {
      "image/png": "[encoded data removed]",
      "text/plain": [
       "Plot with title \"Chi-Square Q-Q Plot\""
      ]
     },
     "metadata": {
      "image/png": {
       "height": 420,
       "width": 420
      }
     },
     "output_type": "display_data"
    }
   ],
   "source": [
    "outliers <- mvn(data = datos[,-1], mvnTest = \"hz\", multivariateOutlierMethod = \"quan\")"
   ]
  },
  {
   "cell_type": "markdown",
   "id": "bdf30b2c",
   "metadata": {},
   "source": [
    "Se chequearon los outliers, donde resulta que la muestra tiene 4 outliers."
   ]
  },
  {
   "cell_type": "code",
   "execution_count": 24,
   "id": "81519479",
   "metadata": {},
   "outputs": [
    {
     "data": {
      "image/png": "[encoded data removed]",
      "text/plain": [
       "Plot with title \"Chi-Square Q-Q Plot\""
      ]
     },
     "metadata": {
      "image/png": {
       "height": 420,
       "width": 420
      }
     },
     "output_type": "display_data"
    }
   ],
   "source": [
    "royston_test <- mvn(data = datos[,-1], mvnTest = \"royston\", multivariatePlot = \"qq\")"
   ]
  },
  {
   "cell_type": "markdown",
   "id": "fda34301",
   "metadata": {},
   "source": [
    "Con el test de royston se chequea la normalidad de los datos multivariados. "
   ]
  },
  {
   "cell_type": "code",
   "execution_count": 25,
   "id": "707e7350",
   "metadata": {},
   "outputs": [
    {
     "data": {
      "text/plain": [
       "\n",
       "\tBox's M-test for Homogeneity of Covariance Matrices\n",
       "\n",
       "data:  datos[, 2:3]\n",
       "Chi-Sq (approx.) = 10.696, df = 3, p-value = 0.01349\n"
      ]
     },
     "metadata": {},
     "output_type": "display_data"
    }
   ],
   "source": [
    "boxM(data = datos[, 2:3], grouping = datos[, 1])"
   ]
  },
  {
   "cell_type": "markdown",
   "id": "9fbc603e",
   "metadata": {},
   "source": [
    "Test de homogeneidad de covarianzas con un p-value=0.01349"
   ]
  },
  {
   "cell_type": "code",
   "execution_count": 26,
   "id": "113966ea",
   "metadata": {},
   "outputs": [
    {
     "data": {
      "image/png": "[encoded data removed]",
      "text/plain": [
       "plot without title"
      ]
     },
     "metadata": {
      "image/png": {
       "height": 420,
       "width": 420
      }
     },
     "output_type": "display_data"
    }
   ],
   "source": [
    "ggplot(datos,aes(x=Fresca,y=Mar)) + geom_point(alpha = 0.7, aes(color = Origen))"
   ]
  },
  {
   "cell_type": "markdown",
   "id": "41f89f72",
   "metadata": {},
   "source": [
    "Dotplot en donde se clasificaron los salmones.Donde se puede apreciar un punto azul de canada que debiese ser rojo de alaska, y por otro lado tenemos 3 rojos que debiesen ser azules de candada, y ahí tenemos los 4 outliers anteriormente mencionados."
   ]
  },
  {
   "cell_type": "markdown",
   "id": "3e9c62be",
   "metadata": {},
   "source": [
    "##### (b) Seleccione una submuestra de entrenamiento y otra de test. Según los resultados obtenidos en el item (a) realice un análisis discriminante adecuado sobre la muestra de entrenamiento. Comente las salidas. (5 puntos)"
   ]
  },
  {
   "cell_type": "markdown",
   "id": "138caed1",
   "metadata": {},
   "source": [
    "Se separa la muestra en una muestra de entrenamiento y una muestra de testeo para el modelo. Se eligio de manera arbitraria un 70% de la muestra total para el entrenamiento del modelo."
   ]
  },
  {
   "cell_type": "code",
   "execution_count": 27,
   "id": "fdb023f0",
   "metadata": {},
   "outputs": [],
   "source": [
    "smp_size <- floor(0.7 * nrow(datos))\n",
    "#set the seed to make your partition reproducible\n",
    "set.seed(123)\n",
    "train_ind <- sample(seq_len(nrow(datos)), size = smp_size)\n",
    "\n",
    "train <- datos[train_ind, ]\n",
    "test <- datos[-train_ind, ]"
   ]
  },
  {
   "cell_type": "code",
   "execution_count": 28,
   "id": "054d8dda",
   "metadata": {},
   "outputs": [
    {
     "data": {
      "text/plain": [
       "Call:\n",
       "qda(Origen ~ Fresca + Mar, data = train, prior = c(1, 1)/2)\n",
       "\n",
       "Prior probabilities of groups:\n",
       "Alaska Canada \n",
       "   0.5    0.5 \n",
       "\n",
       "Group means:\n",
       "          Fresca      Mar\n",
       "Alaska  97.88571 429.3143\n",
       "Canada 137.51429 361.9714"
      ]
     },
     "metadata": {},
     "output_type": "display_data"
    }
   ],
   "source": [
    "modelo_qda <- qda(formula = Origen ~ Fresca + Mar, data = train, prior = c(1,1)/2)\n",
    "modelo_qda"
   ]
  },
  {
   "cell_type": "markdown",
   "id": "cc465b7b",
   "metadata": {},
   "source": [
    "Entrenamiento del modelo, se observan la medias del diámetro por grupo correspondientes por origen y tipo de agua en el primer año de crecimiento."
   ]
  },
  {
   "cell_type": "markdown",
   "id": "34c00203",
   "metadata": {},
   "source": [
    "##### (c) Realice una matriz de confusión (mal clasificados) sobre la muestra test y estime el error esperado de mal clasificación. Cuál variedad de salmones es mejor clasificado por la regla? (5 puntos)"
   ]
  },
  {
   "cell_type": "code",
   "execution_count": 29,
   "id": "f231c036",
   "metadata": {},
   "outputs": [],
   "source": [
    "predicciones <- predict(object = modelo_qda, newdata = test[, -1],\n",
    "                        method = \"predictive\")"
   ]
  },
  {
   "cell_type": "code",
   "execution_count": 30,
   "id": "023c97d8",
   "metadata": {},
   "outputs": [
    {
     "data": {
      "text/plain": [
       "          Clase predicha\n",
       "Clase real Alaska Canada\n",
       "    Alaska     14      1\n",
       "    Canada      0     15"
      ]
     },
     "metadata": {},
     "output_type": "display_data"
    }
   ],
   "source": [
    "table(test$Origen, predicciones$class,\n",
    "      dnn = c(\"Clase real\", \"Clase predicha\"))"
   ]
  },
  {
   "cell_type": "markdown",
   "id": "26a99be0",
   "metadata": {},
   "source": [
    "Matriz de confusión para el conjunto de testeo."
   ]
  },
  {
   "cell_type": "code",
   "execution_count": 31,
   "id": "7d43b88f",
   "metadata": {},
   "outputs": [
    {
     "data": {
      "text/plain": [
       "          Clase predicha\n",
       "Clase real Alaska Canada\n",
       "    Alaska   46.7    3.3\n",
       "    Canada    0.0   50.0"
      ]
     },
     "metadata": {},
     "output_type": "display_data"
    }
   ],
   "source": [
    "t<-table(test$Origen, predicciones$class, dnn = c(\"Clase real\", \"Clase predicha\"))\n",
    "round(prop.table(t)*100,1)"
   ]
  },
  {
   "cell_type": "code",
   "execution_count": 32,
   "id": "8971c1b5",
   "metadata": {},
   "outputs": [
    {
     "data": {
      "text/html": [
       "'trainig_error= 3.3 %'"
      ],
      "text/latex": [
       "'trainig\\_error= 3.3 \\%'"
      ],
      "text/markdown": [
       "'trainig_error= 3.3 %'"
      ],
      "text/plain": [
       "[1] \"trainig_error= 3.3 %\""
      ]
     },
     "metadata": {},
     "output_type": "display_data"
    }
   ],
   "source": [
    "trainig_error <- round(mean(test$Origen != predicciones$class) * 100,1)\n",
    "paste(\"trainig_error=\", trainig_error, \"%\")"
   ]
  },
  {
   "cell_type": "markdown",
   "id": "b17d3df3",
   "metadata": {},
   "source": [
    "El error de mala clasificación es de un 6.7% y podemos ver que el modelo clasifica mejor los salmones de Canada que los de origen en Alaska."
   ]
  },
  {
   "cell_type": "markdown",
   "id": "dac6756b",
   "metadata": {},
   "source": [
    "##### (d) Grafique los grupos y los resultados de la clasificación. Comente. (5 puntos)"
   ]
  },
  {
   "cell_type": "code",
   "execution_count": 33,
   "id": "ae85fbd2",
   "metadata": {},
   "outputs": [
    {
     "data": {
      "text/html": [
       "<style>\n",
       ".list-inline {list-style: none; margin:0; padding: 0}\n",
       ".list-inline>li {display: inline-block}\n",
       ".list-inline>li:not(:last-child)::after {content: \"\\00b7\"; padding: 0 .5ex}\n",
       "</style>\n",
       "<ol class=list-inline><li>Alaska</li><li>Canada</li><li>Alaska</li><li>Alaska</li><li>Alaska</li><li>Alaska</li><li>Alaska</li><li>Alaska</li><li>Alaska</li><li>Alaska</li><li>Alaska</li><li>Canada</li><li>Canada</li><li>Alaska</li><li>Alaska</li><li>Alaska</li><li>Alaska</li><li>Alaska</li><li>Alaska</li><li>Alaska</li><li>Alaska</li><li>Alaska</li><li>Alaska</li><li>Alaska</li><li>Alaska</li><li>Alaska</li><li>Alaska</li><li>Alaska</li><li>Alaska</li><li>Canada</li><li>Alaska</li><li>Alaska</li><li>Alaska</li><li>Alaska</li><li>Alaska</li><li>Alaska</li><li>Alaska</li><li>Alaska</li><li>Alaska</li><li>Alaska</li><li>Alaska</li><li>Alaska</li><li>Alaska</li><li>Alaska</li><li>Alaska</li><li>Alaska</li><li>Alaska</li><li>Alaska</li><li>Alaska</li><li>Alaska</li><li>Canada</li><li>Canada</li><li>Canada</li><li>Canada</li><li>Canada</li><li>Canada</li><li>Canada</li><li>Canada</li><li>Canada</li><li>Canada</li><li>Canada</li><li>Canada</li><li>Canada</li><li>Canada</li><li>Canada</li><li>Canada</li><li>Canada</li><li>Canada</li><li>Canada</li><li>Canada</li><li>Alaska</li><li>Canada</li><li>Canada</li><li>Canada</li><li>Canada</li><li>Canada</li><li>Canada</li><li>Canada</li><li>Canada</li><li>Canada</li><li>Canada</li><li>Canada</li><li>Canada</li><li>Canada</li><li>Canada</li><li>Canada</li><li>Canada</li><li>Canada</li><li>Canada</li><li>Canada</li><li>Canada</li><li>Canada</li><li>Canada</li><li>Canada</li><li>Canada</li><li>Canada</li><li>Canada</li><li>Canada</li><li>Canada</li><li>Canada</li></ol>\n",
       "\n",
       "<details>\n",
       "\t<summary style=display:list-item;cursor:pointer>\n",
       "\t\t<strong>Levels</strong>:\n",
       "\t</summary>\n",
       "\t<style>\n",
       "\t.list-inline {list-style: none; margin:0; padding: 0}\n",
       "\t.list-inline>li {display: inline-block}\n",
       "\t.list-inline>li:not(:last-child)::after {content: \"\\00b7\"; padding: 0 .5ex}\n",
       "\t</style>\n",
       "\t<ol class=list-inline><li>'Alaska'</li><li>'Canada'</li></ol>\n",
       "</details>"
      ],
      "text/latex": [
       "\\begin{enumerate*}\n",
       "\\item Alaska\n",
       "\\item Canada\n",
       "\\item Alaska\n",
       "\\item Alaska\n",
       "\\item Alaska\n",
       "\\item Alaska\n",
       "\\item Alaska\n",
       "\\item Alaska\n",
       "\\item Alaska\n",
       "\\item Alaska\n",
       "\\item Alaska\n",
       "\\item Canada\n",
       "\\item Canada\n",
       "\\item Alaska\n",
       "\\item Alaska\n",
       "\\item Alaska\n",
       "\\item Alaska\n",
       "\\item Alaska\n",
       "\\item Alaska\n",
       "\\item Alaska\n",
       "\\item Alaska\n",
       "\\item Alaska\n",
       "\\item Alaska\n",
       "\\item Alaska\n",
       "\\item Alaska\n",
       "\\item Alaska\n",
       "\\item Alaska\n",
       "\\item Alaska\n",
       "\\item Alaska\n",
       "\\item Canada\n",
       "\\item Alaska\n",
       "\\item Alaska\n",
       "\\item Alaska\n",
       "\\item Alaska\n",
       "\\item Alaska\n",
       "\\item Alaska\n",
       "\\item Alaska\n",
       "\\item Alaska\n",
       "\\item Alaska\n",
       "\\item Alaska\n",
       "\\item Alaska\n",
       "\\item Alaska\n",
       "\\item Alaska\n",
       "\\item Alaska\n",
       "\\item Alaska\n",
       "\\item Alaska\n",
       "\\item Alaska\n",
       "\\item Alaska\n",
       "\\item Alaska\n",
       "\\item Alaska\n",
       "\\item Canada\n",
       "\\item Canada\n",
       "\\item Canada\n",
       "\\item Canada\n",
       "\\item Canada\n",
       "\\item Canada\n",
       "\\item Canada\n",
       "\\item Canada\n",
       "\\item Canada\n",
       "\\item Canada\n",
       "\\item Canada\n",
       "\\item Canada\n",
       "\\item Canada\n",
       "\\item Canada\n",
       "\\item Canada\n",
       "\\item Canada\n",
       "\\item Canada\n",
       "\\item Canada\n",
       "\\item Canada\n",
       "\\item Canada\n",
       "\\item Alaska\n",
       "\\item Canada\n",
       "\\item Canada\n",
       "\\item Canada\n",
       "\\item Canada\n",
       "\\item Canada\n",
       "\\item Canada\n",
       "\\item Canada\n",
       "\\item Canada\n",
       "\\item Canada\n",
       "\\item Canada\n",
       "\\item Canada\n",
       "\\item Canada\n",
       "\\item Canada\n",
       "\\item Canada\n",
       "\\item Canada\n",
       "\\item Canada\n",
       "\\item Canada\n",
       "\\item Canada\n",
       "\\item Canada\n",
       "\\item Canada\n",
       "\\item Canada\n",
       "\\item Canada\n",
       "\\item Canada\n",
       "\\item Canada\n",
       "\\item Canada\n",
       "\\item Canada\n",
       "\\item Canada\n",
       "\\item Canada\n",
       "\\item Canada\n",
       "\\end{enumerate*}\n",
       "\n",
       "\\emph{Levels}: \\begin{enumerate*}\n",
       "\\item 'Alaska'\n",
       "\\item 'Canada'\n",
       "\\end{enumerate*}\n"
      ],
      "text/markdown": [
       "1. Alaska\n",
       "2. Canada\n",
       "3. Alaska\n",
       "4. Alaska\n",
       "5. Alaska\n",
       "6. Alaska\n",
       "7. Alaska\n",
       "8. Alaska\n",
       "9. Alaska\n",
       "10. Alaska\n",
       "11. Alaska\n",
       "12. Canada\n",
       "13. Canada\n",
       "14. Alaska\n",
       "15. Alaska\n",
       "16. Alaska\n",
       "17. Alaska\n",
       "18. Alaska\n",
       "19. Alaska\n",
       "20. Alaska\n",
       "21. Alaska\n",
       "22. Alaska\n",
       "23. Alaska\n",
       "24. Alaska\n",
       "25. Alaska\n",
       "26. Alaska\n",
       "27. Alaska\n",
       "28. Alaska\n",
       "29. Alaska\n",
       "30. Canada\n",
       "31. Alaska\n",
       "32. Alaska\n",
       "33. Alaska\n",
       "34. Alaska\n",
       "35. Alaska\n",
       "36. Alaska\n",
       "37. Alaska\n",
       "38. Alaska\n",
       "39. Alaska\n",
       "40. Alaska\n",
       "41. Alaska\n",
       "42. Alaska\n",
       "43. Alaska\n",
       "44. Alaska\n",
       "45. Alaska\n",
       "46. Alaska\n",
       "47. Alaska\n",
       "48. Alaska\n",
       "49. Alaska\n",
       "50. Alaska\n",
       "51. Canada\n",
       "52. Canada\n",
       "53. Canada\n",
       "54. Canada\n",
       "55. Canada\n",
       "56. Canada\n",
       "57. Canada\n",
       "58. Canada\n",
       "59. Canada\n",
       "60. Canada\n",
       "61. Canada\n",
       "62. Canada\n",
       "63. Canada\n",
       "64. Canada\n",
       "65. Canada\n",
       "66. Canada\n",
       "67. Canada\n",
       "68. Canada\n",
       "69. Canada\n",
       "70. Canada\n",
       "71. Alaska\n",
       "72. Canada\n",
       "73. Canada\n",
       "74. Canada\n",
       "75. Canada\n",
       "76. Canada\n",
       "77. Canada\n",
       "78. Canada\n",
       "79. Canada\n",
       "80. Canada\n",
       "81. Canada\n",
       "82. Canada\n",
       "83. Canada\n",
       "84. Canada\n",
       "85. Canada\n",
       "86. Canada\n",
       "87. Canada\n",
       "88. Canada\n",
       "89. Canada\n",
       "90. Canada\n",
       "91. Canada\n",
       "92. Canada\n",
       "93. Canada\n",
       "94. Canada\n",
       "95. Canada\n",
       "96. Canada\n",
       "97. Canada\n",
       "98. Canada\n",
       "99. Canada\n",
       "100. Canada\n",
       "\n",
       "\n",
       "\n",
       "**Levels**: 1. 'Alaska'\n",
       "2. 'Canada'\n",
       "\n",
       "\n"
      ],
      "text/plain": [
       "  [1] Alaska Canada Alaska Alaska Alaska Alaska Alaska Alaska Alaska Alaska\n",
       " [11] Alaska Canada Canada Alaska Alaska Alaska Alaska Alaska Alaska Alaska\n",
       " [21] Alaska Alaska Alaska Alaska Alaska Alaska Alaska Alaska Alaska Canada\n",
       " [31] Alaska Alaska Alaska Alaska Alaska Alaska Alaska Alaska Alaska Alaska\n",
       " [41] Alaska Alaska Alaska Alaska Alaska Alaska Alaska Alaska Alaska Alaska\n",
       " [51] Canada Canada Canada Canada Canada Canada Canada Canada Canada Canada\n",
       " [61] Canada Canada Canada Canada Canada Canada Canada Canada Canada Canada\n",
       " [71] Alaska Canada Canada Canada Canada Canada Canada Canada Canada Canada\n",
       " [81] Canada Canada Canada Canada Canada Canada Canada Canada Canada Canada\n",
       " [91] Canada Canada Canada Canada Canada Canada Canada Canada Canada Canada\n",
       "Levels: Alaska Canada"
      ]
     },
     "metadata": {},
     "output_type": "display_data"
    }
   ],
   "source": [
    "predicciones <- predict(object = modelo_qda, newdata = datos[, -1],\n",
    "                        method = \"predictive\")\n",
    "predicciones$class"
   ]
  },
  {
   "cell_type": "code",
   "execution_count": 34,
   "id": "acd15898",
   "metadata": {},
   "outputs": [],
   "source": [
    "datos_predict<-data.frame(datos,predicciones$class)\n",
    "colnames(datos_predict)<-c(\"Origen\",\"Fresca\",\"Mar\",\"Predict\")"
   ]
  },
  {
   "cell_type": "code",
   "execution_count": 36,
   "id": "2a823d12",
   "metadata": {},
   "outputs": [
    {
     "data": {
      "image/png": "[encoded data removed]",
      "text/plain": [
       "plot without title"
      ]
     },
     "metadata": {
      "image/png": {
       "height": 420,
       "width": 420
      }
     },
     "output_type": "display_data"
    }
   ],
   "source": [
    "ggplot(data = datos_predict, aes(x = Fresca, y = Mar)) + geom_point(alpha = 0.7, aes(color = Origen, shape = Predict),size=3)"
   ]
  },
  {
   "cell_type": "code",
   "execution_count": 37,
   "id": "c9623e82",
   "metadata": {},
   "outputs": [
    {
     "data": {
      "text/plain": [
       "          Clase predicha\n",
       "Clase real Alaska Canada\n",
       "    Alaska     46      4\n",
       "    Canada      1     49"
      ]
     },
     "metadata": {},
     "output_type": "display_data"
    }
   ],
   "source": [
    "predicciones <- predict(object = modelo_qda, newdata = datos[, -1],\n",
    "                        method = \"predictive\")\n",
    "table(datos$Origen, predicciones$class,\n",
    "      dnn = c(\"Clase real\", \"Clase predicha\"))"
   ]
  },
  {
   "cell_type": "markdown",
   "id": "411e1c23",
   "metadata": {},
   "source": [
    "Podemos apreciar en dotplot que los colores son las categorias originales y las formas son las predicciones, como podemos ver hay 6 casos que predicen mal."
   ]
  },
  {
   "cell_type": "markdown",
   "id": "2d730437",
   "metadata": {},
   "source": [
    "##### (e) Clasifique una nueva observación: (110, 400), de dónde supone que proviene este salmón? (5 puntos)"
   ]
  },
  {
   "cell_type": "code",
   "execution_count": 45,
   "id": "26def096",
   "metadata": {},
   "outputs": [
    {
     "data": {
      "text/html": [
       "<dl>\n",
       "\t<dt>$class</dt>\n",
       "\t\t<dd>Alaska\n",
       "<details>\n",
       "\t<summary style=display:list-item;cursor:pointer>\n",
       "\t\t<strong>Levels</strong>:\n",
       "\t</summary>\n",
       "\t<style>\n",
       "\t.list-inline {list-style: none; margin:0; padding: 0}\n",
       "\t.list-inline>li {display: inline-block}\n",
       "\t.list-inline>li:not(:last-child)::after {content: \"\\00b7\"; padding: 0 .5ex}\n",
       "\t</style>\n",
       "\t<ol class=list-inline><li>'Alaska'</li><li>'Canada'</li></ol>\n",
       "</details></dd>\n",
       "\t<dt>$posterior</dt>\n",
       "\t\t<dd><table class=\"dataframe\">\n",
       "<caption>A matrix: 1 × 2 of type dbl</caption>\n",
       "<thead>\n",
       "\t<tr><th></th><th scope=col>Alaska</th><th scope=col>Canada</th></tr>\n",
       "</thead>\n",
       "<tbody>\n",
       "\t<tr><th scope=row>1</th><td>0.8676084</td><td>0.1323916</td></tr>\n",
       "</tbody>\n",
       "</table>\n",
       "</dd>\n",
       "</dl>\n"
      ],
      "text/latex": [
       "\\begin{description}\n",
       "\\item[\\$class] Alaska\n",
       "\\emph{Levels}: \\begin{enumerate*}\n",
       "\\item 'Alaska'\n",
       "\\item 'Canada'\n",
       "\\end{enumerate*}\n",
       "\n",
       "\\item[\\$posterior] A matrix: 1 × 2 of type dbl\n",
       "\\begin{tabular}{r|ll}\n",
       "  & Alaska & Canada\\\\\n",
       "\\hline\n",
       "\t1 & 0.8676084 & 0.1323916\\\\\n",
       "\\end{tabular}\n",
       "\n",
       "\\end{description}\n"
      ],
      "text/markdown": [
       "$class\n",
       ":   Alaska\n",
       "**Levels**: 1. 'Alaska'\n",
       "2. 'Canada'\n",
       "\n",
       "\n",
       "\n",
       "$posterior\n",
       ":   \n",
       "A matrix: 1 × 2 of type dbl\n",
       "\n",
       "| <!--/--> | Alaska | Canada |\n",
       "|---|---|---|\n",
       "| 1 | 0.8676084 | 0.1323916 |\n",
       "\n",
       "\n",
       "\n",
       "\n"
      ],
      "text/plain": [
       "$class\n",
       "[1] Alaska\n",
       "Levels: Alaska Canada\n",
       "\n",
       "$posterior\n",
       "     Alaska    Canada\n",
       "1 0.8676084 0.1323916\n"
      ]
     },
     "metadata": {},
     "output_type": "display_data"
    }
   ],
   "source": [
    "nuevas_observaciones <- data.frame(Fresca = 110, Mar = 400)\n",
    "predict(object = modelo_qda, newdata = nuevas_observaciones)"
   ]
  },
  {
   "cell_type": "markdown",
   "id": "c565dfd0",
   "metadata": {},
   "source": [
    "Agregando el nuevo caso nuestro modelo predice que el salmón sería procedente de Alaska."
   ]
  },
  {
   "cell_type": "markdown",
   "id": "bc74e96f",
   "metadata": {},
   "source": [
    "### Ejercicio 2.\n",
    "Utilice la base de datos wine disponible en R, Datos de reconocimiento del vino, de 178 filas y 14 columnas para clasificar las calificaciones a partir de degustaciones según 13 características (variables 2 a 14). Estos datos son los resultados de un análisis químico de vinos cultivados en la misma región de Italia pero procedentes de tres lugares diferentes. El análisis determinó las cantidades de 13 componentes encontrados en cada uno de los tres tipos de vinos (variable 1)."
   ]
  },
  {
   "cell_type": "markdown",
   "id": "bca76ff7",
   "metadata": {},
   "source": [
    "El conjunto de datos inicial tenía unas 30 variables, pero por alguna razón sólo se puede obtener la versión de 13 variables.\n",
    "Los atributos son (donados por Riccardo Leardi, riclea@anchem.unige.it ) 1) Alcohol 2)Acido málico 3) Ceniza 4) Alcalinidad de la ceniza 5) Magnesio 6) Fenoles totales 7)Flavanoides 8) Fenoles no flavonoides 9) Proantocianinas 10)Intensidad del color 11)Tono 12)DO280/OD315 de los vinos diluidos 13)Prolina"
   ]
  },
  {
   "cell_type": "code",
   "execution_count": 46,
   "id": "70adda0f",
   "metadata": {},
   "outputs": [
    {
     "name": "stderr",
     "output_type": "stream",
     "text": [
      "Warning message:\n",
      "\"package 'factoextra' was built under R version 3.6.3\"\n",
      "Welcome! Want to learn more? See two factoextra-related books at https://goo.gl/ve3WBa\n",
      "\n",
      "Warning message:\n",
      "\"package 'rattle.data' was built under R version 3.6.3\"\n",
      "Warning message:\n",
      "\"package 'reshape' was built under R version 3.6.3\"\n"
     ]
    },
    {
     "data": {
      "text/html": [
       "<table class=\"dataframe\">\n",
       "<caption>A data.frame: 6 × 14</caption>\n",
       "<thead>\n",
       "\t<tr><th></th><th scope=col>Type</th><th scope=col>Alcohol</th><th scope=col>Malic</th><th scope=col>Ash</th><th scope=col>Alcalinity</th><th scope=col>Magnesium</th><th scope=col>Phenols</th><th scope=col>Flavanoids</th><th scope=col>Nonflavanoids</th><th scope=col>Proanthocyanins</th><th scope=col>Color</th><th scope=col>Hue</th><th scope=col>Dilution</th><th scope=col>Proline</th></tr>\n",
       "\t<tr><th></th><th scope=col>&lt;fct&gt;</th><th scope=col>&lt;dbl&gt;</th><th scope=col>&lt;dbl&gt;</th><th scope=col>&lt;dbl&gt;</th><th scope=col>&lt;dbl&gt;</th><th scope=col>&lt;int&gt;</th><th scope=col>&lt;dbl&gt;</th><th scope=col>&lt;dbl&gt;</th><th scope=col>&lt;dbl&gt;</th><th scope=col>&lt;dbl&gt;</th><th scope=col>&lt;dbl&gt;</th><th scope=col>&lt;dbl&gt;</th><th scope=col>&lt;dbl&gt;</th><th scope=col>&lt;int&gt;</th></tr>\n",
       "</thead>\n",
       "<tbody>\n",
       "\t<tr><th scope=row>1</th><td>1</td><td>14.23</td><td>1.71</td><td>2.43</td><td>15.6</td><td>127</td><td>2.80</td><td>3.06</td><td>0.28</td><td>2.29</td><td>5.64</td><td>1.04</td><td>3.92</td><td>1065</td></tr>\n",
       "\t<tr><th scope=row>2</th><td>1</td><td>13.20</td><td>1.78</td><td>2.14</td><td>11.2</td><td>100</td><td>2.65</td><td>2.76</td><td>0.26</td><td>1.28</td><td>4.38</td><td>1.05</td><td>3.40</td><td>1050</td></tr>\n",
       "\t<tr><th scope=row>3</th><td>1</td><td>13.16</td><td>2.36</td><td>2.67</td><td>18.6</td><td>101</td><td>2.80</td><td>3.24</td><td>0.30</td><td>2.81</td><td>5.68</td><td>1.03</td><td>3.17</td><td>1185</td></tr>\n",
       "\t<tr><th scope=row>4</th><td>1</td><td>14.37</td><td>1.95</td><td>2.50</td><td>16.8</td><td>113</td><td>3.85</td><td>3.49</td><td>0.24</td><td>2.18</td><td>7.80</td><td>0.86</td><td>3.45</td><td>1480</td></tr>\n",
       "\t<tr><th scope=row>5</th><td>1</td><td>13.24</td><td>2.59</td><td>2.87</td><td>21.0</td><td>118</td><td>2.80</td><td>2.69</td><td>0.39</td><td>1.82</td><td>4.32</td><td>1.04</td><td>2.93</td><td> 735</td></tr>\n",
       "\t<tr><th scope=row>6</th><td>1</td><td>14.20</td><td>1.76</td><td>2.45</td><td>15.2</td><td>112</td><td>3.27</td><td>3.39</td><td>0.34</td><td>1.97</td><td>6.75</td><td>1.05</td><td>2.85</td><td>1450</td></tr>\n",
       "</tbody>\n",
       "</table>\n"
      ],
      "text/latex": [
       "A data.frame: 6 × 14\n",
       "\\begin{tabular}{r|llllllllllllll}\n",
       "  & Type & Alcohol & Malic & Ash & Alcalinity & Magnesium & Phenols & Flavanoids & Nonflavanoids & Proanthocyanins & Color & Hue & Dilution & Proline\\\\\n",
       "  & <fct> & <dbl> & <dbl> & <dbl> & <dbl> & <int> & <dbl> & <dbl> & <dbl> & <dbl> & <dbl> & <dbl> & <dbl> & <int>\\\\\n",
       "\\hline\n",
       "\t1 & 1 & 14.23 & 1.71 & 2.43 & 15.6 & 127 & 2.80 & 3.06 & 0.28 & 2.29 & 5.64 & 1.04 & 3.92 & 1065\\\\\n",
       "\t2 & 1 & 13.20 & 1.78 & 2.14 & 11.2 & 100 & 2.65 & 2.76 & 0.26 & 1.28 & 4.38 & 1.05 & 3.40 & 1050\\\\\n",
       "\t3 & 1 & 13.16 & 2.36 & 2.67 & 18.6 & 101 & 2.80 & 3.24 & 0.30 & 2.81 & 5.68 & 1.03 & 3.17 & 1185\\\\\n",
       "\t4 & 1 & 14.37 & 1.95 & 2.50 & 16.8 & 113 & 3.85 & 3.49 & 0.24 & 2.18 & 7.80 & 0.86 & 3.45 & 1480\\\\\n",
       "\t5 & 1 & 13.24 & 2.59 & 2.87 & 21.0 & 118 & 2.80 & 2.69 & 0.39 & 1.82 & 4.32 & 1.04 & 2.93 &  735\\\\\n",
       "\t6 & 1 & 14.20 & 1.76 & 2.45 & 15.2 & 112 & 3.27 & 3.39 & 0.34 & 1.97 & 6.75 & 1.05 & 2.85 & 1450\\\\\n",
       "\\end{tabular}\n"
      ],
      "text/markdown": [
       "\n",
       "A data.frame: 6 × 14\n",
       "\n",
       "| <!--/--> | Type &lt;fct&gt; | Alcohol &lt;dbl&gt; | Malic &lt;dbl&gt; | Ash &lt;dbl&gt; | Alcalinity &lt;dbl&gt; | Magnesium &lt;int&gt; | Phenols &lt;dbl&gt; | Flavanoids &lt;dbl&gt; | Nonflavanoids &lt;dbl&gt; | Proanthocyanins &lt;dbl&gt; | Color &lt;dbl&gt; | Hue &lt;dbl&gt; | Dilution &lt;dbl&gt; | Proline &lt;int&gt; |\n",
       "|---|---|---|---|---|---|---|---|---|---|---|---|---|---|---|\n",
       "| 1 | 1 | 14.23 | 1.71 | 2.43 | 15.6 | 127 | 2.80 | 3.06 | 0.28 | 2.29 | 5.64 | 1.04 | 3.92 | 1065 |\n",
       "| 2 | 1 | 13.20 | 1.78 | 2.14 | 11.2 | 100 | 2.65 | 2.76 | 0.26 | 1.28 | 4.38 | 1.05 | 3.40 | 1050 |\n",
       "| 3 | 1 | 13.16 | 2.36 | 2.67 | 18.6 | 101 | 2.80 | 3.24 | 0.30 | 2.81 | 5.68 | 1.03 | 3.17 | 1185 |\n",
       "| 4 | 1 | 14.37 | 1.95 | 2.50 | 16.8 | 113 | 3.85 | 3.49 | 0.24 | 2.18 | 7.80 | 0.86 | 3.45 | 1480 |\n",
       "| 5 | 1 | 13.24 | 2.59 | 2.87 | 21.0 | 118 | 2.80 | 2.69 | 0.39 | 1.82 | 4.32 | 1.04 | 2.93 |  735 |\n",
       "| 6 | 1 | 14.20 | 1.76 | 2.45 | 15.2 | 112 | 3.27 | 3.39 | 0.34 | 1.97 | 6.75 | 1.05 | 2.85 | 1450 |\n",
       "\n"
      ],
      "text/plain": [
       "  Type Alcohol Malic Ash  Alcalinity Magnesium Phenols Flavanoids Nonflavanoids\n",
       "1 1    14.23   1.71  2.43 15.6       127       2.80    3.06       0.28         \n",
       "2 1    13.20   1.78  2.14 11.2       100       2.65    2.76       0.26         \n",
       "3 1    13.16   2.36  2.67 18.6       101       2.80    3.24       0.30         \n",
       "4 1    14.37   1.95  2.50 16.8       113       3.85    3.49       0.24         \n",
       "5 1    13.24   2.59  2.87 21.0       118       2.80    2.69       0.39         \n",
       "6 1    14.20   1.76  2.45 15.2       112       3.27    3.39       0.34         \n",
       "  Proanthocyanins Color Hue  Dilution Proline\n",
       "1 2.29            5.64  1.04 3.92     1065   \n",
       "2 1.28            4.38  1.05 3.40     1050   \n",
       "3 2.81            5.68  1.03 3.17     1185   \n",
       "4 2.18            7.80  0.86 3.45     1480   \n",
       "5 1.82            4.32  1.04 2.93      735   \n",
       "6 1.97            6.75  1.05 2.85     1450   "
      ]
     },
     "metadata": {},
     "output_type": "display_data"
    },
    {
     "data": {
      "text/html": [
       "<style>\n",
       ".list-inline {list-style: none; margin:0; padding: 0}\n",
       ".list-inline>li {display: inline-block}\n",
       ".list-inline>li:not(:last-child)::after {content: \"\\00b7\"; padding: 0 .5ex}\n",
       "</style>\n",
       "<ol class=list-inline><li>178</li><li>14</li></ol>\n"
      ],
      "text/latex": [
       "\\begin{enumerate*}\n",
       "\\item 178\n",
       "\\item 14\n",
       "\\end{enumerate*}\n"
      ],
      "text/markdown": [
       "1. 178\n",
       "2. 14\n",
       "\n",
       "\n"
      ],
      "text/plain": [
       "[1] 178  14"
      ]
     },
     "metadata": {},
     "output_type": "display_data"
    }
   ],
   "source": [
    "library(\"cluster\")\n",
    "library(\"factoextra\")\n",
    "library(\"rattle.data\")\n",
    "library(reshape)\n",
    "library(ggplot2)\n",
    "library(MASS)\n",
    "#cargar las bases de datos\n",
    "data(wine)\n",
    "head(wine)\n",
    "dim(wine)"
   ]
  },
  {
   "cell_type": "markdown",
   "id": "ba83f42f",
   "metadata": {},
   "source": [
    "##### (a) Utilice el método de Ward para realizar un agrupamiento de las 178 calificaciones de los vinos. Presente el dendograma. Determine la cantidad de grupos más conveniente. Justifique la elección del agrupamiento. Determine los miembros de cada grupo. (8 puntos)"
   ]
  },
  {
   "cell_type": "code",
   "execution_count": 47,
   "id": "577e8a33",
   "metadata": {},
   "outputs": [],
   "source": [
    "data<-wine[, 2:14]"
   ]
  },
  {
   "cell_type": "code",
   "execution_count": 48,
   "id": "37363dec",
   "metadata": {},
   "outputs": [
    {
     "name": "stderr",
     "output_type": "stream",
     "text": [
      "Warning message:\n",
      "\"package 'purrr' was built under R version 3.6.3\"\n"
     ]
    }
   ],
   "source": [
    "library(cluster)\n",
    "library(purrr)\n",
    "library(\"rattle.data\")\n",
    "library(stats)"
   ]
  },
  {
   "cell_type": "code",
   "execution_count": 49,
   "id": "07597bfa",
   "metadata": {},
   "outputs": [
    {
     "data": {
      "image/png": "[encoded data removed]",
      "text/plain": [
       "Plot with title \"Dendograma\""
      ]
     },
     "metadata": {
      "image/png": {
       "height": 420,
       "width": 420
      }
     },
     "output_type": "display_data"
    }
   ],
   "source": [
    "hc5 <- agnes(data, method = \"ward\")\n",
    "pltree(hc5, cex = 0.6, hang = -1, main = \"Dendograma\") \n",
    "abline(h=850, col='red')   #5\n",
    "rect.hclust(hc5, k = 5, border = 2:30)"
   ]
  },
  {
   "cell_type": "code",
   "execution_count": 50,
   "id": "3d52a721",
   "metadata": {},
   "outputs": [],
   "source": [
    "clases<-cutree(hc5,k=3)"
   ]
  },
  {
   "cell_type": "markdown",
   "id": "88668265",
   "metadata": {},
   "source": [
    "Se realiza el dendograma utilizando el método de ward, en el cual se tomo la decisión de determinar la cantidad de grupos de 5. Los cuales se pueden observar separados a la altura de la linea roja, y con los miembros de cada uno de estos en las cuadriculas que se aprecian en el eje x. "
   ]
  },
  {
   "cell_type": "code",
   "execution_count": 51,
   "id": "264fe66d",
   "metadata": {},
   "outputs": [
    {
     "data": {
      "image/png": "[encoded data removed]",
      "text/plain": [
       "Plot with title \"Dendograma\""
      ]
     },
     "metadata": {
      "image/png": {
       "height": 420,
       "width": 420
      }
     },
     "output_type": "display_data"
    }
   ],
   "source": [
    "hc3 <- agnes(data, method = \"ward\")\n",
    "pltree(hc3, cex = 0.6, hang = -1, main = \"Dendograma\") \n",
    "abline(h=1500, col='blue') #3\n",
    "rect.hclust(hc3, k = 3, border = 2:10)"
   ]
  },
  {
   "cell_type": "markdown",
   "id": "b6bfda60",
   "metadata": {},
   "source": [
    "Se realiza el mismo dendograma utilizando el método de ward, en el cual se tomo la decisión de determinar la cantidad de grupos de 3, esto es netamente porque ya sabemos que son tres tipos de variedades de vinos lo cual se puede observar en la columna Type. Los cuales se pueden observar separados a la altura de la linea azul, y con los miembros de cada uno de estos en las cuadriculas que se aprecian en el eje x. "
   ]
  },
  {
   "cell_type": "code",
   "execution_count": 52,
   "id": "bdcba4b5",
   "metadata": {
    "scrolled": false
   },
   "outputs": [
    {
     "data": {
      "text/plain": [
       "K-means clustering with 3 clusters of sizes 69, 47, 62\n",
       "\n",
       "Cluster means:\n",
       "   Alcohol    Malic      Ash Alcalinity Magnesium  Phenols Flavanoids\n",
       "1 12.51667 2.494203 2.288551   20.82319  92.34783 2.070725   1.758406\n",
       "2 13.80447 1.883404 2.426170   17.02340 105.51064 2.867234   3.014255\n",
       "3 12.92984 2.504032 2.408065   19.89032 103.59677 2.111129   1.584032\n",
       "  Nonflavanoids Proanthocyanins    Color       Hue Dilution   Proline\n",
       "1     0.3901449        1.451884 4.086957 0.9411594 2.490725  458.2319\n",
       "2     0.2853191        1.910426 5.702553 1.0782979 3.114043 1195.1489\n",
       "3     0.3883871        1.503387 5.650323 0.8839677 2.365484  728.3387\n",
       "\n",
       "Clustering vector:\n",
       "  [1] 2 2 2 2 3 2 2 2 2 2 2 2 2 2 2 2 2 2 2 3 3 3 2 2 3 3 2 2 3 2 2 2 2 2 2 3 3\n",
       " [38] 2 2 3 3 2 2 3 3 2 2 2 2 2 2 2 2 2 2 2 2 2 2 1 3 1 3 1 1 3 1 1 3 3 3 1 1 2\n",
       " [75] 3 1 1 1 3 1 1 3 3 1 1 1 1 1 3 3 1 1 1 1 1 3 3 1 3 1 3 1 1 1 3 1 1 1 1 3 1\n",
       "[112] 1 3 1 1 1 1 1 1 1 3 1 1 1 1 1 1 1 1 1 3 1 1 3 3 3 3 1 1 1 3 3 1 1 3 3 1 3\n",
       "[149] 3 1 1 1 1 3 3 3 1 3 3 3 1 3 1 3 3 1 3 3 3 3 1 1 3 3 3 3 3 1\n",
       "\n",
       "Within cluster sum of squares by cluster:\n",
       "[1]  443166.7 1360950.5  566572.5\n",
       " (between_SS / total_SS =  86.5 %)\n",
       "\n",
       "Available components:\n",
       "\n",
       "[1] \"cluster\"      \"centers\"      \"totss\"        \"withinss\"     \"tot.withinss\"\n",
       "[6] \"betweenss\"    \"size\"         \"iter\"         \"ifault\"      "
      ]
     },
     "metadata": {},
     "output_type": "display_data"
    },
    {
     "data": {
      "image/png": "[encoded data removed]",
      "text/plain": [
       "plot without title"
      ]
     },
     "metadata": {
      "image/png": {
       "height": 420,
       "width": 420
      }
     },
     "output_type": "display_data"
    }
   ],
   "source": [
    "Ck4=kmeans(data, 3, nstart = 178)\n",
    "Ck4\n",
    "plot(data, col = Ck4$cluster)\n",
    "points(Ck4$centers, col = Ck4$cluster, pch = 2)"
   ]
  },
  {
   "cell_type": "markdown",
   "id": "ee534318",
   "metadata": {},
   "source": [
    "Se realizo un agrupamiento en 3 grupos, donde el grupo 1 contendrá 69 miembros, grupo 2 con 62 miembros y el grupo 3 con 47 miembros. Luego se observan las medias por variable según cada grupo. Posterior a eso tenemos el vector con la agrupación, es decir que se los números que se encuentran en el vector corresponden a el grupo del cual son miembros dada la asignación. A continuación observamos la suma de cuadrados por grupo dentro del grupo, el 86.5% corresponde a la suma de cuadrado entre grupos dividido por la suma de cuadrados total. Observando el gráfico con respecto a la variable Proline se puede separar uno o dos grupos, rojo y verde, para asegurarnos de esto debemos hacer un acercamiento para poder observar mejor, ya que a simple vista se ve que los podriamos separar, pero a detalle puede que esten mezclados."
   ]
  },
  {
   "cell_type": "markdown",
   "id": "72d0aaa3",
   "metadata": {},
   "source": [
    "##### (b) Realice un agrupamiento utilizando el método de K-medias, justifique la elección de k, el número de grupos. Determine los miembros de cada grupo. (8 puntos)"
   ]
  },
  {
   "cell_type": "code",
   "execution_count": 53,
   "id": "96277a7d",
   "metadata": {
    "scrolled": false
   },
   "outputs": [
    {
     "data": {
      "image/png": "[encoded data removed]",
      "text/plain": [
       "Plot with title \"Error asociado a cada N° de k\""
      ]
     },
     "metadata": {
      "image/png": {
       "height": 420,
       "width": 420
      }
     },
     "output_type": "display_data"
    }
   ],
   "source": [
    "Error<-rep(0,9)\n",
    "Error2<-rep(0,9)\n",
    "K=10\n",
    "for(k in 2:K){\n",
    "Error[k-1]=kmeans(data,k)$betweenss/kmeans(data,k)$tot.withinss\n",
    "Error2[k-1]=kmeans(data,k)$tot.withinss\n",
    "}\n",
    "plot(2:10,Error2,type='b',main = \"Error asociado a cada N° de k\",xlab = \"k\") # Nos quedamos con k=3"
   ]
  },
  {
   "cell_type": "markdown",
   "id": "938a30cb",
   "metadata": {},
   "source": [
    "Se realizo un agrupamiento por el método de K-medias, observando el gráfico anterior se puede notar la cantidad de grupos a elegir, el criterio para esto es observar el punto en que se nota la mayor asociación de grupos, es decir el cambio más significativo, el cual lo definimos en el punto tres, por ende escojeremos un k=3 grupos."
   ]
  },
  {
   "cell_type": "code",
   "execution_count": 54,
   "id": "23037cdd",
   "metadata": {},
   "outputs": [
    {
     "data": {
      "image/png": "[encoded data removed]",
      "text/plain": [
       "Plot with title \"Error asociado a cada N° de k\""
      ]
     },
     "metadata": {
      "image/png": {
       "height": 420,
       "width": 420
      }
     },
     "output_type": "display_data"
    }
   ],
   "source": [
    "plot(2:10,Error,type='b',main = \"Error asociado a cada N° de k\",xlab = \"k\") # Nos quedamos con k=3"
   ]
  },
  {
   "cell_type": "markdown",
   "id": "5f82d750",
   "metadata": {},
   "source": [
    "En este gráfico el criterio es el mismo que el anterior "
   ]
  },
  {
   "cell_type": "code",
   "execution_count": 55,
   "id": "b826b873",
   "metadata": {},
   "outputs": [
    {
     "data": {
      "text/plain": [
       "K-means clustering with 6 clusters of sizes 57, 17, 48, 24, 26, 6\n",
       "\n",
       "Cluster means:\n",
       "   Alcohol    Malic      Ash Alcalinity Magnesium  Phenols Flavanoids\n",
       "1 12.47509 2.325263 2.280000   20.63684   91.7193 2.105789   1.871404\n",
       "2 13.76235 1.780588 2.540588   17.35882  105.4118 2.832941   2.975882\n",
       "3 12.74167 2.683542 2.364167   20.61250   97.1250 1.966875   1.328333\n",
       "4 13.75125 1.969167 2.348750   16.97500  105.0417 2.794583   2.921667\n",
       "5 13.17769 2.538462 2.452692   19.39615  111.7308 2.281923   1.888846\n",
       "6 14.13667 1.831667 2.411667   16.26667  107.6667 3.255000   3.493333\n",
       "  Nonflavanoids Proanthocyanins    Color       Hue Dilution   Proline\n",
       "1     0.3833333        1.468421 3.952105 0.9605263 2.544386  435.5789\n",
       "2     0.3082353        1.823529 5.916471 1.0952941 3.038235 1270.8824\n",
       "3     0.4129167        1.385625 5.541875 0.8645833 2.188750  636.1250\n",
       "4     0.2725000        1.895417 5.168333 1.0575000 3.189167 1057.7083\n",
       "5     0.3588462        1.660769 5.424615 0.9036923 2.631923  823.5769\n",
       "6     0.2716667        2.216667 7.233333 1.1133333 3.028333 1530.3333\n",
       "\n",
       "Clustering vector:\n",
       "  [1] 4 4 2 6 5 6 2 2 4 4 6 2 2 4 6 2 2 4 6 5 5 5 4 4 5 5 2 2 5 4 2 6 4 2 4 5 5\n",
       " [38] 4 4 5 5 4 4 3 5 4 4 4 4 2 4 2 2 2 4 4 4 2 2 1 3 1 3 1 1 3 1 1 5 3 5 1 1 4\n",
       " [75] 5 1 1 1 5 1 1 3 3 1 1 1 1 3 3 3 1 1 1 1 1 5 3 1 3 1 3 3 1 1 3 1 1 1 1 3 3\n",
       "[112] 1 3 1 1 1 1 1 1 3 3 1 1 1 1 1 1 1 1 3 3 1 3 3 3 3 3 1 3 3 3 5 1 3 5 5 1 3\n",
       "[149] 3 3 1 1 1 3 3 3 1 5 3 3 1 3 3 3 3 1 3 3 5 3 1 1 3 5 5 5 5 3\n",
       "\n",
       "Within cluster sum of squares by cluster:\n",
       "[1] 271938.14  39983.24 135928.55  63506.37 103528.34  32441.36\n",
       " (between_SS / total_SS =  96.3 %)\n",
       "\n",
       "Available components:\n",
       "\n",
       "[1] \"cluster\"      \"centers\"      \"totss\"        \"withinss\"     \"tot.withinss\"\n",
       "[6] \"betweenss\"    \"size\"         \"iter\"         \"ifault\"      "
      ]
     },
     "metadata": {},
     "output_type": "display_data"
    }
   ],
   "source": [
    "Ck2=kmeans(data,6, nstart = 178)\n",
    "Ck2"
   ]
  },
  {
   "cell_type": "code",
   "execution_count": 56,
   "id": "9e492f07",
   "metadata": {},
   "outputs": [
    {
     "data": {
      "image/png": "[encoded data removed]",
      "text/plain": [
       "plot without title"
      ]
     },
     "metadata": {
      "image/png": {
       "height": 420,
       "width": 420
      }
     },
     "output_type": "display_data"
    }
   ],
   "source": [
    "plot(data, col = Ck2$cluster)\n",
    "points(Ck2$centers, col = 1:2, pch = 8)"
   ]
  },
  {
   "cell_type": "markdown",
   "id": "d02715d1",
   "metadata": {},
   "source": [
    "##### (c) Compare las clasificaciones obtenidas en los ítems (a) y (b) con la variedad de vino dada en la variable 1 (etiquetas: 1,2,3) utilizando análisis descriptivo. Presente sus conclusiones. (8 puntos)"
   ]
  },
  {
   "cell_type": "code",
   "execution_count": 57,
   "id": "1778ffbe",
   "metadata": {},
   "outputs": [
    {
     "data": {
      "text/plain": [
       "          Clase predicha\n",
       "Clase real  1  2  3\n",
       "         1 46 13  0\n",
       "         2  2 18 51\n",
       "         3  0 27 21"
      ]
     },
     "metadata": {},
     "output_type": "display_data"
    }
   ],
   "source": [
    "table(wine$Type, clases, dnn = c(\"Clase real\", \"Clase predicha\"))\n"
   ]
  },
  {
   "cell_type": "code",
   "execution_count": 58,
   "id": "5fc021e0",
   "metadata": {
    "scrolled": false
   },
   "outputs": [
    {
     "data": {
      "text/html": [
       "0.47752808988764"
      ],
      "text/latex": [
       "0.47752808988764"
      ],
      "text/markdown": [
       "0.47752808988764"
      ],
      "text/plain": [
       "[1] 0.4775281"
      ]
     },
     "metadata": {},
     "output_type": "display_data"
    }
   ],
   "source": [
    "length((wine$Type == clases)[(wine$Type == clases)==TRUE])/178"
   ]
  },
  {
   "cell_type": "code",
   "execution_count": 59,
   "id": "48a9dacf",
   "metadata": {},
   "outputs": [
    {
     "data": {
      "text/html": [
       "<style>\n",
       ".list-inline {list-style: none; margin:0; padding: 0}\n",
       ".list-inline>li {display: inline-block}\n",
       ".list-inline>li:not(:last-child)::after {content: \"\\00b7\"; padding: 0 .5ex}\n",
       "</style>\n",
       "<ol class=list-inline><li>1</li><li>1</li><li>1</li><li>1</li><li>3</li><li>1</li><li>1</li><li>1</li><li>1</li><li>1</li><li>1</li><li>1</li><li>1</li><li>1</li><li>1</li><li>1</li><li>1</li><li>1</li><li>1</li><li>3</li><li>3</li><li>3</li><li>1</li><li>1</li><li>3</li><li>3</li><li>1</li><li>1</li><li>3</li><li>1</li><li>1</li><li>1</li><li>1</li><li>1</li><li>1</li><li>3</li><li>3</li><li>1</li><li>1</li><li>3</li><li>3</li><li>1</li><li>1</li><li>3</li><li>3</li><li>1</li><li>1</li><li>1</li><li>1</li><li>1</li><li>1</li><li>1</li><li>1</li><li>1</li><li>1</li><li>1</li><li>1</li><li>1</li><li>1</li><li>2</li><li>3</li><li>2</li><li>3</li><li>2</li><li>2</li><li>3</li><li>2</li><li>2</li><li>3</li><li>3</li><li>3</li><li>2</li><li>2</li><li>1</li><li>3</li><li>2</li><li>2</li><li>2</li><li>3</li><li>2</li><li>2</li><li>3</li><li>3</li><li>2</li><li>2</li><li>2</li><li>2</li><li>2</li><li>3</li><li>3</li><li>2</li><li>2</li><li>2</li><li>2</li><li>2</li><li>3</li><li>3</li><li>2</li><li>3</li><li>2</li><li>3</li><li>2</li><li>2</li><li>2</li><li>3</li><li>2</li><li>2</li><li>2</li><li>2</li><li>3</li><li>2</li><li>2</li><li>3</li><li>2</li><li>2</li><li>2</li><li>2</li><li>2</li><li>2</li><li>2</li><li>3</li><li>2</li><li>2</li><li>2</li><li>2</li><li>2</li><li>2</li><li>2</li><li>2</li><li>2</li><li>3</li><li>2</li><li>2</li><li>3</li><li>3</li><li>3</li><li>3</li><li>2</li><li>2</li><li>2</li><li>3</li><li>3</li><li>2</li><li>2</li><li>3</li><li>3</li><li>2</li><li>3</li><li>3</li><li>2</li><li>2</li><li>2</li><li>2</li><li>3</li><li>3</li><li>3</li><li>2</li><li>3</li><li>3</li><li>3</li><li>2</li><li>3</li><li>2</li><li>3</li><li>3</li><li>2</li><li>3</li><li>3</li><li>3</li><li>3</li><li>2</li><li>2</li><li>3</li><li>3</li><li>3</li><li>3</li><li>3</li><li>2</li></ol>\n"
      ],
      "text/latex": [
       "\\begin{enumerate*}\n",
       "\\item 1\n",
       "\\item 1\n",
       "\\item 1\n",
       "\\item 1\n",
       "\\item 3\n",
       "\\item 1\n",
       "\\item 1\n",
       "\\item 1\n",
       "\\item 1\n",
       "\\item 1\n",
       "\\item 1\n",
       "\\item 1\n",
       "\\item 1\n",
       "\\item 1\n",
       "\\item 1\n",
       "\\item 1\n",
       "\\item 1\n",
       "\\item 1\n",
       "\\item 1\n",
       "\\item 3\n",
       "\\item 3\n",
       "\\item 3\n",
       "\\item 1\n",
       "\\item 1\n",
       "\\item 3\n",
       "\\item 3\n",
       "\\item 1\n",
       "\\item 1\n",
       "\\item 3\n",
       "\\item 1\n",
       "\\item 1\n",
       "\\item 1\n",
       "\\item 1\n",
       "\\item 1\n",
       "\\item 1\n",
       "\\item 3\n",
       "\\item 3\n",
       "\\item 1\n",
       "\\item 1\n",
       "\\item 3\n",
       "\\item 3\n",
       "\\item 1\n",
       "\\item 1\n",
       "\\item 3\n",
       "\\item 3\n",
       "\\item 1\n",
       "\\item 1\n",
       "\\item 1\n",
       "\\item 1\n",
       "\\item 1\n",
       "\\item 1\n",
       "\\item 1\n",
       "\\item 1\n",
       "\\item 1\n",
       "\\item 1\n",
       "\\item 1\n",
       "\\item 1\n",
       "\\item 1\n",
       "\\item 1\n",
       "\\item 2\n",
       "\\item 3\n",
       "\\item 2\n",
       "\\item 3\n",
       "\\item 2\n",
       "\\item 2\n",
       "\\item 3\n",
       "\\item 2\n",
       "\\item 2\n",
       "\\item 3\n",
       "\\item 3\n",
       "\\item 3\n",
       "\\item 2\n",
       "\\item 2\n",
       "\\item 1\n",
       "\\item 3\n",
       "\\item 2\n",
       "\\item 2\n",
       "\\item 2\n",
       "\\item 3\n",
       "\\item 2\n",
       "\\item 2\n",
       "\\item 3\n",
       "\\item 3\n",
       "\\item 2\n",
       "\\item 2\n",
       "\\item 2\n",
       "\\item 2\n",
       "\\item 2\n",
       "\\item 3\n",
       "\\item 3\n",
       "\\item 2\n",
       "\\item 2\n",
       "\\item 2\n",
       "\\item 2\n",
       "\\item 2\n",
       "\\item 3\n",
       "\\item 3\n",
       "\\item 2\n",
       "\\item 3\n",
       "\\item 2\n",
       "\\item 3\n",
       "\\item 2\n",
       "\\item 2\n",
       "\\item 2\n",
       "\\item 3\n",
       "\\item 2\n",
       "\\item 2\n",
       "\\item 2\n",
       "\\item 2\n",
       "\\item 3\n",
       "\\item 2\n",
       "\\item 2\n",
       "\\item 3\n",
       "\\item 2\n",
       "\\item 2\n",
       "\\item 2\n",
       "\\item 2\n",
       "\\item 2\n",
       "\\item 2\n",
       "\\item 2\n",
       "\\item 3\n",
       "\\item 2\n",
       "\\item 2\n",
       "\\item 2\n",
       "\\item 2\n",
       "\\item 2\n",
       "\\item 2\n",
       "\\item 2\n",
       "\\item 2\n",
       "\\item 2\n",
       "\\item 3\n",
       "\\item 2\n",
       "\\item 2\n",
       "\\item 3\n",
       "\\item 3\n",
       "\\item 3\n",
       "\\item 3\n",
       "\\item 2\n",
       "\\item 2\n",
       "\\item 2\n",
       "\\item 3\n",
       "\\item 3\n",
       "\\item 2\n",
       "\\item 2\n",
       "\\item 3\n",
       "\\item 3\n",
       "\\item 2\n",
       "\\item 3\n",
       "\\item 3\n",
       "\\item 2\n",
       "\\item 2\n",
       "\\item 2\n",
       "\\item 2\n",
       "\\item 3\n",
       "\\item 3\n",
       "\\item 3\n",
       "\\item 2\n",
       "\\item 3\n",
       "\\item 3\n",
       "\\item 3\n",
       "\\item 2\n",
       "\\item 3\n",
       "\\item 2\n",
       "\\item 3\n",
       "\\item 3\n",
       "\\item 2\n",
       "\\item 3\n",
       "\\item 3\n",
       "\\item 3\n",
       "\\item 3\n",
       "\\item 2\n",
       "\\item 2\n",
       "\\item 3\n",
       "\\item 3\n",
       "\\item 3\n",
       "\\item 3\n",
       "\\item 3\n",
       "\\item 2\n",
       "\\end{enumerate*}\n"
      ],
      "text/markdown": [
       "1. 1\n",
       "2. 1\n",
       "3. 1\n",
       "4. 1\n",
       "5. 3\n",
       "6. 1\n",
       "7. 1\n",
       "8. 1\n",
       "9. 1\n",
       "10. 1\n",
       "11. 1\n",
       "12. 1\n",
       "13. 1\n",
       "14. 1\n",
       "15. 1\n",
       "16. 1\n",
       "17. 1\n",
       "18. 1\n",
       "19. 1\n",
       "20. 3\n",
       "21. 3\n",
       "22. 3\n",
       "23. 1\n",
       "24. 1\n",
       "25. 3\n",
       "26. 3\n",
       "27. 1\n",
       "28. 1\n",
       "29. 3\n",
       "30. 1\n",
       "31. 1\n",
       "32. 1\n",
       "33. 1\n",
       "34. 1\n",
       "35. 1\n",
       "36. 3\n",
       "37. 3\n",
       "38. 1\n",
       "39. 1\n",
       "40. 3\n",
       "41. 3\n",
       "42. 1\n",
       "43. 1\n",
       "44. 3\n",
       "45. 3\n",
       "46. 1\n",
       "47. 1\n",
       "48. 1\n",
       "49. 1\n",
       "50. 1\n",
       "51. 1\n",
       "52. 1\n",
       "53. 1\n",
       "54. 1\n",
       "55. 1\n",
       "56. 1\n",
       "57. 1\n",
       "58. 1\n",
       "59. 1\n",
       "60. 2\n",
       "61. 3\n",
       "62. 2\n",
       "63. 3\n",
       "64. 2\n",
       "65. 2\n",
       "66. 3\n",
       "67. 2\n",
       "68. 2\n",
       "69. 3\n",
       "70. 3\n",
       "71. 3\n",
       "72. 2\n",
       "73. 2\n",
       "74. 1\n",
       "75. 3\n",
       "76. 2\n",
       "77. 2\n",
       "78. 2\n",
       "79. 3\n",
       "80. 2\n",
       "81. 2\n",
       "82. 3\n",
       "83. 3\n",
       "84. 2\n",
       "85. 2\n",
       "86. 2\n",
       "87. 2\n",
       "88. 2\n",
       "89. 3\n",
       "90. 3\n",
       "91. 2\n",
       "92. 2\n",
       "93. 2\n",
       "94. 2\n",
       "95. 2\n",
       "96. 3\n",
       "97. 3\n",
       "98. 2\n",
       "99. 3\n",
       "100. 2\n",
       "101. 3\n",
       "102. 2\n",
       "103. 2\n",
       "104. 2\n",
       "105. 3\n",
       "106. 2\n",
       "107. 2\n",
       "108. 2\n",
       "109. 2\n",
       "110. 3\n",
       "111. 2\n",
       "112. 2\n",
       "113. 3\n",
       "114. 2\n",
       "115. 2\n",
       "116. 2\n",
       "117. 2\n",
       "118. 2\n",
       "119. 2\n",
       "120. 2\n",
       "121. 3\n",
       "122. 2\n",
       "123. 2\n",
       "124. 2\n",
       "125. 2\n",
       "126. 2\n",
       "127. 2\n",
       "128. 2\n",
       "129. 2\n",
       "130. 2\n",
       "131. 3\n",
       "132. 2\n",
       "133. 2\n",
       "134. 3\n",
       "135. 3\n",
       "136. 3\n",
       "137. 3\n",
       "138. 2\n",
       "139. 2\n",
       "140. 2\n",
       "141. 3\n",
       "142. 3\n",
       "143. 2\n",
       "144. 2\n",
       "145. 3\n",
       "146. 3\n",
       "147. 2\n",
       "148. 3\n",
       "149. 3\n",
       "150. 2\n",
       "151. 2\n",
       "152. 2\n",
       "153. 2\n",
       "154. 3\n",
       "155. 3\n",
       "156. 3\n",
       "157. 2\n",
       "158. 3\n",
       "159. 3\n",
       "160. 3\n",
       "161. 2\n",
       "162. 3\n",
       "163. 2\n",
       "164. 3\n",
       "165. 3\n",
       "166. 2\n",
       "167. 3\n",
       "168. 3\n",
       "169. 3\n",
       "170. 3\n",
       "171. 2\n",
       "172. 2\n",
       "173. 3\n",
       "174. 3\n",
       "175. 3\n",
       "176. 3\n",
       "177. 3\n",
       "178. 2\n",
       "\n",
       "\n"
      ],
      "text/plain": [
       "  [1] 1 1 1 1 3 1 1 1 1 1 1 1 1 1 1 1 1 1 1 3 3 3 1 1 3 3 1 1 3 1 1 1 1 1 1 3 3\n",
       " [38] 1 1 3 3 1 1 3 3 1 1 1 1 1 1 1 1 1 1 1 1 1 1 2 3 2 3 2 2 3 2 2 3 3 3 2 2 1\n",
       " [75] 3 2 2 2 3 2 2 3 3 2 2 2 2 2 3 3 2 2 2 2 2 3 3 2 3 2 3 2 2 2 3 2 2 2 2 3 2\n",
       "[112] 2 3 2 2 2 2 2 2 2 3 2 2 2 2 2 2 2 2 2 3 2 2 3 3 3 3 2 2 2 3 3 2 2 3 3 2 3\n",
       "[149] 3 2 2 2 2 3 3 3 2 3 3 3 2 3 2 3 3 2 3 3 3 3 2 2 3 3 3 3 3 2"
      ]
     },
     "metadata": {},
     "output_type": "display_data"
    }
   ],
   "source": [
    "clases1<-replace(Ck4$cluster, Ck4$cluster == 2,4)\n",
    "clases1<-replace(clases1, clases1 == 1,2)\n",
    "clases1<-replace(clases1,clases1 == 4,1)\n",
    "clases1"
   ]
  },
  {
   "cell_type": "code",
   "execution_count": 60,
   "id": "f066a080",
   "metadata": {},
   "outputs": [
    {
     "data": {
      "text/plain": [
       "          Clase predicha\n",
       "Clase real  1  2  3\n",
       "         1 46  0 13\n",
       "         2  1 50 20\n",
       "         3  0 19 29"
      ]
     },
     "metadata": {},
     "output_type": "display_data"
    }
   ],
   "source": [
    "table(wine$Type, clases1, dnn = c(\"Clase real\", \"Clase predicha\"))\n"
   ]
  },
  {
   "cell_type": "code",
   "execution_count": 61,
   "id": "8ae79163",
   "metadata": {
    "scrolled": true
   },
   "outputs": [
    {
     "data": {
      "text/html": [
       "0.702247191011236"
      ],
      "text/latex": [
       "0.702247191011236"
      ],
      "text/markdown": [
       "0.702247191011236"
      ],
      "text/plain": [
       "[1] 0.7022472"
      ]
     },
     "metadata": {},
     "output_type": "display_data"
    }
   ],
   "source": [
    "length((wine$Type == clases1)[(wine$Type == clases1)== TRUE]) /178"
   ]
  },
  {
   "cell_type": "markdown",
   "id": "c2627894",
   "metadata": {},
   "source": [
    "##### (d) Presente el script del taller. (6 puntos)"
   ]
  }
 ],
 "metadata": {
  "kernelspec": {
   "display_name": "R",
   "language": "R",
   "name": "ir"
  },
  "language_info": {
   "codemirror_mode": "r",
   "file_extension": ".r",
   "mimetype": "text/x-r-source",
   "name": "R",
   "pygments_lexer": "r",
   "version": "3.6.1"
  }
 },
 "nbformat": 4,
 "nbformat_minor": 5
}
